{
 "cells": [
  {
   "cell_type": "code",
   "execution_count": 4,
   "metadata": {},
   "outputs": [
    {
     "name": "stdout",
     "output_type": "stream",
     "text": [
      "Requirement already satisfied: DBcm in c:\\users\\labuser\\appdata\\local\\packages\\pythonsoftwarefoundation.python.3.11_qbz5n2kfra8p0\\localcache\\local-packages\\python311\\site-packages (2.1)\n",
      "Requirement already satisfied: mysql-connector-python in c:\\users\\labuser\\appdata\\local\\packages\\pythonsoftwarefoundation.python.3.11_qbz5n2kfra8p0\\localcache\\local-packages\\python311\\site-packages (from DBcm) (8.2.0)\n",
      "Requirement already satisfied: protobuf<=4.21.12,>=4.21.1 in c:\\users\\labuser\\appdata\\local\\packages\\pythonsoftwarefoundation.python.3.11_qbz5n2kfra8p0\\localcache\\local-packages\\python311\\site-packages (from mysql-connector-python->DBcm) (4.21.12)\n",
      "Note: you may need to restart the kernel to use updated packages.\n"
     ]
    },
    {
     "name": "stderr",
     "output_type": "stream",
     "text": [
      "\n",
      "[notice] A new release of pip is available: 23.2.1 -> 23.3.1\n",
      "[notice] To update, run: C:\\Users\\labuser\\AppData\\Local\\Microsoft\\WindowsApps\\PythonSoftwareFoundation.Python.3.11_qbz5n2kfra8p0\\python.exe -m pip install --upgrade pip\n"
     ]
    }
   ],
   "source": [
    "%pip install --upgrade DBcm"
   ]
  },
  {
   "cell_type": "code",
   "execution_count": 5,
   "metadata": {},
   "outputs": [],
   "source": [
    "import DBcm"
   ]
  },
  {
   "cell_type": "code",
   "execution_count": 6,
   "metadata": {},
   "outputs": [
    {
     "name": "stdout",
     "output_type": "stream",
     "text": [
      "['ConnectionError', 'CredentialsError', 'SQLError', 'UseDatabase', '__builtins__', '__cached__', '__doc__', '__file__', '__loader__', '__name__', '__package__', '__spec__', 'mysql', 'sqlite3']\n"
     ]
    }
   ],
   "source": [
    "print(dir(DBcm))"
   ]
  },
  {
   "cell_type": "code",
   "execution_count": 7,
   "metadata": {},
   "outputs": [],
   "source": [
    "creds = {\n",
    "    \"host\": \"localhost\",\n",
    "    \"database\": \"BlackjackDB\",\n",
    "    \"user\": \"jack\",\n",
    "    \"password\": \"jackpasswd\",\n",
    "}"
   ]
  },
  {
   "cell_type": "code",
   "execution_count": 8,
   "metadata": {},
   "outputs": [
    {
     "data": {
      "text/plain": [
       "{'host': 'localhost',\n",
       " 'database': 'BlackjackDB',\n",
       " 'user': 'jack',\n",
       " 'password': 'jackpasswd'}"
      ]
     },
     "execution_count": 8,
     "metadata": {},
     "output_type": "execute_result"
    }
   ],
   "source": [
    "creds"
   ]
  },
  {
   "cell_type": "code",
   "execution_count": 9,
   "metadata": {},
   "outputs": [],
   "source": [
    "with open(\"players.sql\") as f:    # file context manager: \"f\" is a file alias.\n",
    "    data = f.readlines()\n",
    "# the file is automatically closed."
   ]
  },
  {
   "cell_type": "code",
   "execution_count": 10,
   "metadata": {},
   "outputs": [],
   "source": [
    "with DBcm.UseDatabase(creds) as db:    # database context manager: \"db\" is a database connection.\n",
    "    SQL = \"select * from games\"\n",
    "    db.execute(SQL)  # sends the SQL command to the server to run.\n",
    "    results = db.fetchall()  # gets any results from the server.\n",
    "# automatically closed the database connection."
   ]
  },
  {
   "cell_type": "code",
   "execution_count": 11,
   "metadata": {},
   "outputs": [
    {
     "data": {
      "text/plain": [
       "[('Xx_TTV_MadJack69_xX', 'Loss'), ('Xx_TTV_MadJack69_xX', 'Loss')]"
      ]
     },
     "execution_count": 11,
     "metadata": {},
     "output_type": "execute_result"
    }
   ],
   "source": [
    "results"
   ]
  },
  {
   "cell_type": "code",
   "execution_count": 12,
   "metadata": {},
   "outputs": [
    {
     "data": {
      "text/plain": [
       "[]"
      ]
     },
     "execution_count": 12,
     "metadata": {},
     "output_type": "execute_result"
    }
   ],
   "source": [
    "with DBcm.UseDatabase(creds) as db:    \n",
    "    SQL = \"select * from player\"\n",
    "    db.execute(SQL)  \n",
    "    results = db.fetchall()  \n",
    "results"
   ]
  },
  {
   "cell_type": "code",
   "execution_count": 13,
   "metadata": {},
   "outputs": [
    {
     "data": {
      "text/plain": [
       "[('realname', 'varchar(32)', 'NO', '', None, ''),\n",
       " ('gamertag', 'varchar(32)', 'NO', '', None, ''),\n",
       " ('email', 'varchar(64)', 'NO', '', None, '')]"
      ]
     },
     "execution_count": 13,
     "metadata": {},
     "output_type": "execute_result"
    }
   ],
   "source": [
    "with DBcm.UseDatabase(creds) as db:    \n",
    "    SQL = \"describe player\"\n",
    "    db.execute(SQL)  \n",
    "    results = db.fetchall()  \n",
    "results"
   ]
  },
  {
   "cell_type": "code",
   "execution_count": 14,
   "metadata": {},
   "outputs": [
    {
     "data": {
      "text/plain": [
       "list"
      ]
     },
     "execution_count": 14,
     "metadata": {},
     "output_type": "execute_result"
    }
   ],
   "source": [
    "type(results)"
   ]
  },
  {
   "cell_type": "code",
   "execution_count": 15,
   "metadata": {},
   "outputs": [
    {
     "data": {
      "text/plain": [
       "tuple"
      ]
     },
     "execution_count": 15,
     "metadata": {},
     "output_type": "execute_result"
    }
   ],
   "source": [
    "type(results[0])"
   ]
  },
  {
   "cell_type": "code",
   "execution_count": 16,
   "metadata": {},
   "outputs": [
    {
     "data": {
      "text/plain": [
       "'realname'"
      ]
     },
     "execution_count": 16,
     "metadata": {},
     "output_type": "execute_result"
    }
   ],
   "source": [
    "results[0][0]"
   ]
  },
  {
   "cell_type": "code",
   "execution_count": 17,
   "metadata": {},
   "outputs": [
    {
     "data": {
      "text/plain": [
       "[(0,)]"
      ]
     },
     "execution_count": 17,
     "metadata": {},
     "output_type": "execute_result"
    }
   ],
   "source": [
    "with DBcm.UseDatabase(creds) as db:    \n",
    "    SQL = \"\"\"\n",
    "        select count(*) from games \n",
    "        where gamertag = \"Xx_TTV_MadJack69_xX\" and outcome = \"Win\"\n",
    "    \"\"\"\n",
    "    db.execute(SQL)  \n",
    "    results = db.fetchall()  \n",
    "results"
   ]
  },
  {
   "cell_type": "code",
   "execution_count": 18,
   "metadata": {},
   "outputs": [
    {
     "data": {
      "text/plain": [
       "(0,)"
      ]
     },
     "execution_count": 18,
     "metadata": {},
     "output_type": "execute_result"
    }
   ],
   "source": [
    "with DBcm.UseDatabase(creds) as db:    \n",
    "    SQL = \"\"\"\n",
    "        select count(*) from games \n",
    "        where gamertag = \"Xx_TTV_MadJack69_xX\" and outcome = \"Win\"\n",
    "    \"\"\"\n",
    "    db.execute(SQL)  \n",
    "    results = db.fetchone()  \n",
    "results"
   ]
  },
  {
   "cell_type": "code",
   "execution_count": 19,
   "metadata": {},
   "outputs": [
    {
     "data": {
      "text/plain": [
       "0"
      ]
     },
     "execution_count": 19,
     "metadata": {},
     "output_type": "execute_result"
    }
   ],
   "source": [
    "results[0]"
   ]
  },
  {
   "cell_type": "code",
   "execution_count": 20,
   "metadata": {},
   "outputs": [
    {
     "name": "stdout",
     "output_type": "stream",
     "text": [
      "Wins: 0\n",
      "Losses: 2\n",
      "Win percentage: 0.0\n"
     ]
    }
   ],
   "source": [
    "with DBcm.UseDatabase(creds) as db:    \n",
    "    SQL = \"\"\"\n",
    "        select count(*) from games \n",
    "        where gamertag = \"Xx_TTV_MadJack69_xX\" and outcome = \"Win\"\n",
    "    \"\"\"\n",
    "    db.execute(SQL)  \n",
    "    results = db.fetchone()  \n",
    "    wins = results[0]\n",
    "    SQL = \"\"\"\n",
    "        select count(*) from games \n",
    "        where gamertag = \"Xx_TTV_MadJack69_xX\" and outcome = \"Loss\"\n",
    "    \"\"\"\n",
    "    db.execute(SQL)  \n",
    "    results = db.fetchone() \n",
    "    losses = results[0]\n",
    "\n",
    "print(\"Wins:\", wins)\n",
    "print(\"Losses:\", losses)\n",
    "print(\"Win percentage:\", wins / (wins+losses))"
   ]
  },
  {
   "cell_type": "code",
   "execution_count": 21,
   "metadata": {},
   "outputs": [],
   "source": [
    "import random"
   ]
  },
  {
   "cell_type": "code",
   "execution_count": 22,
   "metadata": {},
   "outputs": [],
   "source": [
    "SQL = \"\"\"\n",
    "    insert into games \n",
    "    ( gamertag, outcome )\n",
    "    values     \n",
    "    (\"Xx_TTV_MadJack69_xX\", \"Loss\")\n",
    "\"\"\"\n",
    "with DBcm.UseDatabase(creds) as db:\n",
    "    db.execute(SQL)\n"
   ]
  },
  {
   "cell_type": "code",
   "execution_count": 23,
   "metadata": {},
   "outputs": [
    {
     "data": {
      "text/plain": [
       "'Loss'"
      ]
     },
     "execution_count": 23,
     "metadata": {},
     "output_type": "execute_result"
    }
   ],
   "source": [
    "outcome = random.choice([\"Win\", \"Loss\"])\n",
    "outcome"
   ]
  },
  {
   "cell_type": "code",
   "execution_count": 24,
   "metadata": {},
   "outputs": [],
   "source": [
    "with DBcm.UseDatabase(creds) as db:\n",
    "    SQL = \"\"\"\n",
    "        select gamertag from player\n",
    "    \"\"\"\n",
    "    db.execute(SQL)\n",
    "    tags = db.fetchall()"
   ]
  },
  {
   "cell_type": "code",
   "execution_count": 25,
   "metadata": {},
   "outputs": [
    {
     "name": "stdout",
     "output_type": "stream",
     "text": [
      "[]\n"
     ]
    }
   ],
   "source": [
    "print(tags)"
   ]
  },
  {
   "cell_type": "code",
   "execution_count": 26,
   "metadata": {},
   "outputs": [
    {
     "name": "stdout",
     "output_type": "stream",
     "text": [
      "[]\n"
     ]
    }
   ],
   "source": [
    "tags = [ row[0] for row in tags ]\n",
    "print(tags)"
   ]
  },
  {
   "cell_type": "code",
   "execution_count": 27,
   "metadata": {},
   "outputs": [
    {
     "ename": "IndexError",
     "evalue": "Cannot choose from an empty sequence",
     "output_type": "error",
     "traceback": [
      "\u001b[1;31m---------------------------------------------------------------------------\u001b[0m",
      "\u001b[1;31mIndexError\u001b[0m                                Traceback (most recent call last)",
      "\u001b[1;32mc:\\Desktop\\College - year 3\\WD&DB\\TalkingToDBs\\TalkingToDatabases.ipynb Cell 24\u001b[0m line \u001b[0;36m1\n\u001b[1;32m----> <a href='vscode-notebook-cell:/c%3A/Desktop/College%20-%20year%203/WD%26DB/TalkingToDBs/TalkingToDatabases.ipynb#X32sZmlsZQ%3D%3D?line=0'>1</a>\u001b[0m who \u001b[39m=\u001b[39m random\u001b[39m.\u001b[39;49mchoice(tags)\n\u001b[0;32m      <a href='vscode-notebook-cell:/c%3A/Desktop/College%20-%20year%203/WD%26DB/TalkingToDBs/TalkingToDatabases.ipynb#X32sZmlsZQ%3D%3D?line=1'>2</a>\u001b[0m who\n",
      "File \u001b[1;32mC:\\Program Files\\WindowsApps\\PythonSoftwareFoundation.Python.3.11_3.11.1776.0_x64__qbz5n2kfra8p0\\Lib\\random.py:373\u001b[0m, in \u001b[0;36mRandom.choice\u001b[1;34m(self, seq)\u001b[0m\n\u001b[0;32m    370\u001b[0m \u001b[39m# As an accommodation for NumPy, we don't use \"if not seq\"\u001b[39;00m\n\u001b[0;32m    371\u001b[0m \u001b[39m# because bool(numpy.array()) raises a ValueError.\u001b[39;00m\n\u001b[0;32m    372\u001b[0m \u001b[39mif\u001b[39;00m \u001b[39mnot\u001b[39;00m \u001b[39mlen\u001b[39m(seq):\n\u001b[1;32m--> 373\u001b[0m     \u001b[39mraise\u001b[39;00m \u001b[39mIndexError\u001b[39;00m(\u001b[39m'\u001b[39m\u001b[39mCannot choose from an empty sequence\u001b[39m\u001b[39m'\u001b[39m)\n\u001b[0;32m    374\u001b[0m \u001b[39mreturn\u001b[39;00m seq[\u001b[39mself\u001b[39m\u001b[39m.\u001b[39m_randbelow(\u001b[39mlen\u001b[39m(seq))]\n",
      "\u001b[1;31mIndexError\u001b[0m: Cannot choose from an empty sequence"
     ]
    }
   ],
   "source": [
    "who = random.choice(tags)\n",
    "who"
   ]
  },
  {
   "cell_type": "code",
   "execution_count": 28,
   "metadata": {},
   "outputs": [],
   "source": [
    "def random_gamer():\n",
    "    with DBcm.UseDatabase(creds) as db:\n",
    "        SQL = \"\"\"\n",
    "            select gamertag from player\n",
    "        \"\"\"\n",
    "        db.execute(SQL)\n",
    "        tags = db.fetchall()\n",
    "        tags = [ row[0] for row in tags ]\n",
    "        who = random.choice(tags)\n",
    "    return who"
   ]
  },
  {
   "cell_type": "code",
   "execution_count": 29,
   "metadata": {},
   "outputs": [
    {
     "ename": "IndexError",
     "evalue": "Cannot choose from an empty sequence",
     "output_type": "error",
     "traceback": [
      "\u001b[1;31m---------------------------------------------------------------------------\u001b[0m",
      "\u001b[1;31mIndexError\u001b[0m                                Traceback (most recent call last)",
      "\u001b[1;32mc:\\Desktop\\College - year 3\\WD&DB\\TalkingToDBs\\TalkingToDatabases.ipynb Cell 26\u001b[0m line \u001b[0;36m9\n\u001b[0;32m      <a href='vscode-notebook-cell:/c%3A/Desktop/College%20-%20year%203/WD%26DB/TalkingToDBs/TalkingToDatabases.ipynb#X34sZmlsZQ%3D%3D?line=7'>8</a>\u001b[0m     tags \u001b[39m=\u001b[39m [ row[\u001b[39m0\u001b[39m] \u001b[39mfor\u001b[39;00m row \u001b[39min\u001b[39;00m tags ]\n\u001b[1;32m----> <a href='vscode-notebook-cell:/c%3A/Desktop/College%20-%20year%203/WD%26DB/TalkingToDBs/TalkingToDatabases.ipynb#X34sZmlsZQ%3D%3D?line=8'>9</a>\u001b[0m     who \u001b[39m=\u001b[39m random\u001b[39m.\u001b[39;49mchoice(tags)\n\u001b[0;32m     <a href='vscode-notebook-cell:/c%3A/Desktop/College%20-%20year%203/WD%26DB/TalkingToDBs/TalkingToDatabases.ipynb#X34sZmlsZQ%3D%3D?line=9'>10</a>\u001b[0m \u001b[39mreturn\u001b[39;00m who\n",
      "File \u001b[1;32mC:\\Program Files\\WindowsApps\\PythonSoftwareFoundation.Python.3.11_3.11.1776.0_x64__qbz5n2kfra8p0\\Lib\\random.py:373\u001b[0m, in \u001b[0;36mRandom.choice\u001b[1;34m(self, seq)\u001b[0m\n\u001b[0;32m    372\u001b[0m \u001b[39mif\u001b[39;00m \u001b[39mnot\u001b[39;00m \u001b[39mlen\u001b[39m(seq):\n\u001b[1;32m--> 373\u001b[0m     \u001b[39mraise\u001b[39;00m \u001b[39mIndexError\u001b[39;00m(\u001b[39m'\u001b[39m\u001b[39mCannot choose from an empty sequence\u001b[39m\u001b[39m'\u001b[39m)\n\u001b[0;32m    374\u001b[0m \u001b[39mreturn\u001b[39;00m seq[\u001b[39mself\u001b[39m\u001b[39m.\u001b[39m_randbelow(\u001b[39mlen\u001b[39m(seq))]\n",
      "\u001b[1;31mIndexError\u001b[0m: Cannot choose from an empty sequence",
      "\nDuring handling of the above exception, another exception occurred:\n",
      "\u001b[1;31mIndexError\u001b[0m                                Traceback (most recent call last)",
      "\u001b[1;32mc:\\Desktop\\College - year 3\\WD&DB\\TalkingToDBs\\TalkingToDatabases.ipynb Cell 26\u001b[0m line \u001b[0;36m1\n\u001b[1;32m----> <a href='vscode-notebook-cell:/c%3A/Desktop/College%20-%20year%203/WD%26DB/TalkingToDBs/TalkingToDatabases.ipynb#X34sZmlsZQ%3D%3D?line=0'>1</a>\u001b[0m gamer \u001b[39m=\u001b[39m random_gamer()\n\u001b[0;32m      <a href='vscode-notebook-cell:/c%3A/Desktop/College%20-%20year%203/WD%26DB/TalkingToDBs/TalkingToDatabases.ipynb#X34sZmlsZQ%3D%3D?line=1'>2</a>\u001b[0m outcome \u001b[39m=\u001b[39m random\u001b[39m.\u001b[39mchoice([\u001b[39m\"\u001b[39m\u001b[39mWin\u001b[39m\u001b[39m\"\u001b[39m, \u001b[39m\"\u001b[39m\u001b[39mLoss\u001b[39m\u001b[39m\"\u001b[39m])\n\u001b[0;32m      <a href='vscode-notebook-cell:/c%3A/Desktop/College%20-%20year%203/WD%26DB/TalkingToDBs/TalkingToDatabases.ipynb#X34sZmlsZQ%3D%3D?line=2'>3</a>\u001b[0m gamer, outcome\n",
      "\u001b[1;32mc:\\Desktop\\College - year 3\\WD&DB\\TalkingToDBs\\TalkingToDatabases.ipynb Cell 26\u001b[0m line \u001b[0;36m2\n\u001b[0;32m      <a href='vscode-notebook-cell:/c%3A/Desktop/College%20-%20year%203/WD%26DB/TalkingToDBs/TalkingToDatabases.ipynb#X34sZmlsZQ%3D%3D?line=0'>1</a>\u001b[0m \u001b[39mdef\u001b[39;00m \u001b[39mrandom_gamer\u001b[39m():\n\u001b[1;32m----> <a href='vscode-notebook-cell:/c%3A/Desktop/College%20-%20year%203/WD%26DB/TalkingToDBs/TalkingToDatabases.ipynb#X34sZmlsZQ%3D%3D?line=1'>2</a>\u001b[0m     \u001b[39mwith\u001b[39;49;00m DBcm\u001b[39m.\u001b[39;49mUseDatabase(creds) \u001b[39mas\u001b[39;49;00m db:\n\u001b[0;32m      <a href='vscode-notebook-cell:/c%3A/Desktop/College%20-%20year%203/WD%26DB/TalkingToDBs/TalkingToDatabases.ipynb#X34sZmlsZQ%3D%3D?line=2'>3</a>\u001b[0m         SQL \u001b[39m=\u001b[39;49m \u001b[39m\"\"\"\u001b[39;49m\n\u001b[0;32m      <a href='vscode-notebook-cell:/c%3A/Desktop/College%20-%20year%203/WD%26DB/TalkingToDBs/TalkingToDatabases.ipynb#X34sZmlsZQ%3D%3D?line=3'>4</a>\u001b[0m \u001b[39m            select gamertag from player\u001b[39;49m\n\u001b[0;32m      <a href='vscode-notebook-cell:/c%3A/Desktop/College%20-%20year%203/WD%26DB/TalkingToDBs/TalkingToDatabases.ipynb#X34sZmlsZQ%3D%3D?line=4'>5</a>\u001b[0m \u001b[39m        \u001b[39;49m\u001b[39m\"\"\"\u001b[39;49m\n\u001b[0;32m      <a href='vscode-notebook-cell:/c%3A/Desktop/College%20-%20year%203/WD%26DB/TalkingToDBs/TalkingToDatabases.ipynb#X34sZmlsZQ%3D%3D?line=5'>6</a>\u001b[0m         db\u001b[39m.\u001b[39;49mexecute(SQL)\n",
      "File \u001b[1;32m~\\AppData\\Local\\Packages\\PythonSoftwareFoundation.Python.3.11_qbz5n2kfra8p0\\LocalCache\\local-packages\\Python311\\site-packages\\DBcm.py:118\u001b[0m, in \u001b[0;36mUseDatabase.__exit__\u001b[1;34m(self, exc_type, exc_value, exc_traceback)\u001b[0m\n\u001b[0;32m    116\u001b[0m     \u001b[39mraise\u001b[39;00m SQLError(exc_value)\n\u001b[0;32m    117\u001b[0m \u001b[39melif\u001b[39;00m exc_type:\n\u001b[1;32m--> 118\u001b[0m     \u001b[39mraise\u001b[39;00m exc_type(exc_value)\n",
      "\u001b[1;31mIndexError\u001b[0m: Cannot choose from an empty sequence"
     ]
    }
   ],
   "source": [
    "gamer = random_gamer()\n",
    "outcome = random.choice([\"Win\", \"Loss\"])\n",
    "gamer, outcome"
   ]
  },
  {
   "cell_type": "code",
   "execution_count": 30,
   "metadata": {},
   "outputs": [
    {
     "ename": "IndexError",
     "evalue": "Cannot choose from an empty sequence",
     "output_type": "error",
     "traceback": [
      "\u001b[1;31m---------------------------------------------------------------------------\u001b[0m",
      "\u001b[1;31mIndexError\u001b[0m                                Traceback (most recent call last)",
      "\u001b[1;32mc:\\Desktop\\College - year 3\\WD&DB\\TalkingToDBs\\TalkingToDatabases.ipynb Cell 27\u001b[0m line \u001b[0;36m9\n\u001b[0;32m      <a href='vscode-notebook-cell:/c%3A/Desktop/College%20-%20year%203/WD%26DB/TalkingToDBs/TalkingToDatabases.ipynb#X35sZmlsZQ%3D%3D?line=7'>8</a>\u001b[0m     tags \u001b[39m=\u001b[39m [ row[\u001b[39m0\u001b[39m] \u001b[39mfor\u001b[39;00m row \u001b[39min\u001b[39;00m tags ]\n\u001b[1;32m----> <a href='vscode-notebook-cell:/c%3A/Desktop/College%20-%20year%203/WD%26DB/TalkingToDBs/TalkingToDatabases.ipynb#X35sZmlsZQ%3D%3D?line=8'>9</a>\u001b[0m     who \u001b[39m=\u001b[39m random\u001b[39m.\u001b[39;49mchoice(tags)\n\u001b[0;32m     <a href='vscode-notebook-cell:/c%3A/Desktop/College%20-%20year%203/WD%26DB/TalkingToDBs/TalkingToDatabases.ipynb#X35sZmlsZQ%3D%3D?line=9'>10</a>\u001b[0m \u001b[39mreturn\u001b[39;00m who\n",
      "File \u001b[1;32mC:\\Program Files\\WindowsApps\\PythonSoftwareFoundation.Python.3.11_3.11.1776.0_x64__qbz5n2kfra8p0\\Lib\\random.py:373\u001b[0m, in \u001b[0;36mRandom.choice\u001b[1;34m(self, seq)\u001b[0m\n\u001b[0;32m    372\u001b[0m \u001b[39mif\u001b[39;00m \u001b[39mnot\u001b[39;00m \u001b[39mlen\u001b[39m(seq):\n\u001b[1;32m--> 373\u001b[0m     \u001b[39mraise\u001b[39;00m \u001b[39mIndexError\u001b[39;00m(\u001b[39m'\u001b[39m\u001b[39mCannot choose from an empty sequence\u001b[39m\u001b[39m'\u001b[39m)\n\u001b[0;32m    374\u001b[0m \u001b[39mreturn\u001b[39;00m seq[\u001b[39mself\u001b[39m\u001b[39m.\u001b[39m_randbelow(\u001b[39mlen\u001b[39m(seq))]\n",
      "\u001b[1;31mIndexError\u001b[0m: Cannot choose from an empty sequence",
      "\nDuring handling of the above exception, another exception occurred:\n",
      "\u001b[1;31mIndexError\u001b[0m                                Traceback (most recent call last)",
      "\u001b[1;32mc:\\Desktop\\College - year 3\\WD&DB\\TalkingToDBs\\TalkingToDatabases.ipynb Cell 27\u001b[0m line \u001b[0;36m8\n\u001b[0;32m      <a href='vscode-notebook-cell:/c%3A/Desktop/College%20-%20year%203/WD%26DB/TalkingToDBs/TalkingToDatabases.ipynb#X35sZmlsZQ%3D%3D?line=0'>1</a>\u001b[0m \u001b[39mfor\u001b[39;00m _ \u001b[39min\u001b[39;00m \u001b[39mrange\u001b[39m(\u001b[39m50\u001b[39m):\n\u001b[0;32m      <a href='vscode-notebook-cell:/c%3A/Desktop/College%20-%20year%203/WD%26DB/TalkingToDBs/TalkingToDatabases.ipynb#X35sZmlsZQ%3D%3D?line=1'>2</a>\u001b[0m     SQL \u001b[39m=\u001b[39m \u001b[39m\"\"\"\u001b[39m\n\u001b[0;32m      <a href='vscode-notebook-cell:/c%3A/Desktop/College%20-%20year%203/WD%26DB/TalkingToDBs/TalkingToDatabases.ipynb#X35sZmlsZQ%3D%3D?line=2'>3</a>\u001b[0m \u001b[39m        insert into games\u001b[39m\n\u001b[0;32m      <a href='vscode-notebook-cell:/c%3A/Desktop/College%20-%20year%203/WD%26DB/TalkingToDBs/TalkingToDatabases.ipynb#X35sZmlsZQ%3D%3D?line=3'>4</a>\u001b[0m \u001b[39m        ( gamertag, outcome )\u001b[39m\n\u001b[0;32m      <a href='vscode-notebook-cell:/c%3A/Desktop/College%20-%20year%203/WD%26DB/TalkingToDBs/TalkingToDatabases.ipynb#X35sZmlsZQ%3D%3D?line=4'>5</a>\u001b[0m \u001b[39m        values     \u001b[39m\n\u001b[0;32m      <a href='vscode-notebook-cell:/c%3A/Desktop/College%20-%20year%203/WD%26DB/TalkingToDBs/TalkingToDatabases.ipynb#X35sZmlsZQ%3D%3D?line=5'>6</a>\u001b[0m \u001b[39m        (\u001b[39m\u001b[39m%s\u001b[39;00m\u001b[39m, \u001b[39m\u001b[39m%s\u001b[39;00m\u001b[39m)\u001b[39m\n\u001b[0;32m      <a href='vscode-notebook-cell:/c%3A/Desktop/College%20-%20year%203/WD%26DB/TalkingToDBs/TalkingToDatabases.ipynb#X35sZmlsZQ%3D%3D?line=6'>7</a>\u001b[0m \u001b[39m    \u001b[39m\u001b[39m\"\"\"\u001b[39m\n\u001b[1;32m----> <a href='vscode-notebook-cell:/c%3A/Desktop/College%20-%20year%203/WD%26DB/TalkingToDBs/TalkingToDatabases.ipynb#X35sZmlsZQ%3D%3D?line=7'>8</a>\u001b[0m     gamer \u001b[39m=\u001b[39m random_gamer()\n\u001b[0;32m      <a href='vscode-notebook-cell:/c%3A/Desktop/College%20-%20year%203/WD%26DB/TalkingToDBs/TalkingToDatabases.ipynb#X35sZmlsZQ%3D%3D?line=8'>9</a>\u001b[0m     outcome \u001b[39m=\u001b[39m random\u001b[39m.\u001b[39mchoice([\u001b[39m\"\u001b[39m\u001b[39mWin\u001b[39m\u001b[39m\"\u001b[39m, \u001b[39m\"\u001b[39m\u001b[39mLoss\u001b[39m\u001b[39m\"\u001b[39m])\n\u001b[0;32m     <a href='vscode-notebook-cell:/c%3A/Desktop/College%20-%20year%203/WD%26DB/TalkingToDBs/TalkingToDatabases.ipynb#X35sZmlsZQ%3D%3D?line=9'>10</a>\u001b[0m     \u001b[39mwith\u001b[39;00m DBcm\u001b[39m.\u001b[39mUseDatabase(creds) \u001b[39mas\u001b[39;00m db:\n",
      "\u001b[1;32mc:\\Desktop\\College - year 3\\WD&DB\\TalkingToDBs\\TalkingToDatabases.ipynb Cell 27\u001b[0m line \u001b[0;36m2\n\u001b[0;32m      <a href='vscode-notebook-cell:/c%3A/Desktop/College%20-%20year%203/WD%26DB/TalkingToDBs/TalkingToDatabases.ipynb#X35sZmlsZQ%3D%3D?line=0'>1</a>\u001b[0m \u001b[39mdef\u001b[39;00m \u001b[39mrandom_gamer\u001b[39m():\n\u001b[1;32m----> <a href='vscode-notebook-cell:/c%3A/Desktop/College%20-%20year%203/WD%26DB/TalkingToDBs/TalkingToDatabases.ipynb#X35sZmlsZQ%3D%3D?line=1'>2</a>\u001b[0m     \u001b[39mwith\u001b[39;49;00m DBcm\u001b[39m.\u001b[39;49mUseDatabase(creds) \u001b[39mas\u001b[39;49;00m db:\n\u001b[0;32m      <a href='vscode-notebook-cell:/c%3A/Desktop/College%20-%20year%203/WD%26DB/TalkingToDBs/TalkingToDatabases.ipynb#X35sZmlsZQ%3D%3D?line=2'>3</a>\u001b[0m         SQL \u001b[39m=\u001b[39;49m \u001b[39m\"\"\"\u001b[39;49m\n\u001b[0;32m      <a href='vscode-notebook-cell:/c%3A/Desktop/College%20-%20year%203/WD%26DB/TalkingToDBs/TalkingToDatabases.ipynb#X35sZmlsZQ%3D%3D?line=3'>4</a>\u001b[0m \u001b[39m            select gamertag from player\u001b[39;49m\n\u001b[0;32m      <a href='vscode-notebook-cell:/c%3A/Desktop/College%20-%20year%203/WD%26DB/TalkingToDBs/TalkingToDatabases.ipynb#X35sZmlsZQ%3D%3D?line=4'>5</a>\u001b[0m \u001b[39m        \u001b[39;49m\u001b[39m\"\"\"\u001b[39;49m\n\u001b[0;32m      <a href='vscode-notebook-cell:/c%3A/Desktop/College%20-%20year%203/WD%26DB/TalkingToDBs/TalkingToDatabases.ipynb#X35sZmlsZQ%3D%3D?line=5'>6</a>\u001b[0m         db\u001b[39m.\u001b[39;49mexecute(SQL)\n",
      "File \u001b[1;32m~\\AppData\\Local\\Packages\\PythonSoftwareFoundation.Python.3.11_qbz5n2kfra8p0\\LocalCache\\local-packages\\Python311\\site-packages\\DBcm.py:118\u001b[0m, in \u001b[0;36mUseDatabase.__exit__\u001b[1;34m(self, exc_type, exc_value, exc_traceback)\u001b[0m\n\u001b[0;32m    116\u001b[0m     \u001b[39mraise\u001b[39;00m SQLError(exc_value)\n\u001b[0;32m    117\u001b[0m \u001b[39melif\u001b[39;00m exc_type:\n\u001b[1;32m--> 118\u001b[0m     \u001b[39mraise\u001b[39;00m exc_type(exc_value)\n",
      "\u001b[1;31mIndexError\u001b[0m: Cannot choose from an empty sequence"
     ]
    }
   ],
   "source": [
    "for _ in range(50):\n",
    "    SQL = \"\"\"\n",
    "        insert into games\n",
    "        ( gamertag, outcome )\n",
    "        values     \n",
    "        (%s, %s)\n",
    "    \"\"\"\n",
    "    gamer = random_gamer()\n",
    "    outcome = random.choice([\"Win\", \"Loss\"])\n",
    "    with DBcm.UseDatabase(creds) as db:\n",
    "        db.execute(SQL, (gamer, outcome, ))   # tuple.\n",
    "        SQL = \"\"\"select * from games\"\"\"\n",
    "        db.execute(SQL)\n",
    "        results = db.fetchall()\n",
    "        ## print(results[-3:])"
   ]
  },
  {
   "cell_type": "code",
   "execution_count": null,
   "metadata": {},
   "outputs": [],
   "source": [
    "len(results)"
   ]
  },
  {
   "cell_type": "code",
   "execution_count": null,
   "metadata": {},
   "outputs": [],
   "source": [
    "results[25:50]"
   ]
  },
  {
   "cell_type": "code",
   "execution_count": null,
   "metadata": {},
   "outputs": [],
   "source": [
    "with DBcm.UseDatabase(creds) as db:\n",
    "    SQL = \"\"\"select distinct gamertag from games\"\"\"\n",
    "    db.execute(SQL)\n",
    "    results = db.fetchall()\n",
    "    print(len(results))"
   ]
  },
  {
   "cell_type": "code",
   "execution_count": null,
   "metadata": {},
   "outputs": [],
   "source": [
    "for tag in tags:\n",
    "    with DBcm.UseDatabase(creds) as db:    \n",
    "        SQL = \"\"\"\n",
    "            select count(*) from games \n",
    "            where gamertag = %s and outcome = \"Win\"\n",
    "        \"\"\"\n",
    "        db.execute(SQL, (tag, ))   # tuple.\n",
    "        results = db.fetchone()  \n",
    "        wins = results[0]\n",
    "        SQL = \"\"\"\n",
    "            select count(*) from games \n",
    "            where gamertag = %s and outcome = \"Loss\"\n",
    "        \"\"\"\n",
    "        db.execute(SQL, (tag, ))   # tuple.\n",
    "        results = db.fetchone() \n",
    "        losses = results[0]\n",
    "\n",
    "    ## print(\"Wins:\", wins)\n",
    "    ## print(\"Losses:\", losses)\n",
    "    print(tag, \"win percentage:\", wins / (wins+losses))\n",
    "    print(\"-\"*60)"
   ]
  },
  {
   "cell_type": "code",
   "execution_count": null,
   "metadata": {},
   "outputs": [],
   "source": [
    "with DBcm.UseDatabase(creds) as db:\n",
    "    SQL = \"\"\"select gamertag from games\"\"\"\n",
    "    db.execute(SQL)\n",
    "    results = db.fetchall()\n",
    "results[-20:]"
   ]
  },
  {
   "cell_type": "code",
   "execution_count": null,
   "metadata": {},
   "outputs": [],
   "source": [
    "with DBcm.UseDatabase(creds) as db:\n",
    "    SQL = \"\"\"select gamertag from games\n",
    "             order by gamertag desc\"\"\"\n",
    "    db.execute(SQL)\n",
    "    results = db.fetchall()\n",
    "results[-20:]"
   ]
  },
  {
   "cell_type": "code",
   "execution_count": null,
   "metadata": {},
   "outputs": [],
   "source": []
  }
 ],
 "metadata": {
  "kernelspec": {
   "display_name": "Python 3",
   "language": "python",
   "name": "python3"
  },
  "language_info": {
   "codemirror_mode": {
    "name": "ipython",
    "version": 3
   },
   "file_extension": ".py",
   "mimetype": "text/x-python",
   "name": "python",
   "nbconvert_exporter": "python",
   "pygments_lexer": "ipython3",
   "version": "3.11.6"
  }
 },
 "nbformat": 4,
 "nbformat_minor": 2
}
