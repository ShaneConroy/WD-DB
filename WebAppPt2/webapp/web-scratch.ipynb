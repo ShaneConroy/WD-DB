{
 "cells": [
  {
   "cell_type": "code",
   "execution_count": null,
   "metadata": {},
   "outputs": [],
   "source": [
    "import model.data"
   ]
  },
  {
   "cell_type": "code",
   "execution_count": null,
   "metadata": {},
   "outputs": [],
   "source": [
    "print(dir(model.data))"
   ]
  },
  {
   "cell_type": "code",
   "execution_count": null,
   "metadata": {},
   "outputs": [],
   "source": [
    "model.data.init_deck_values()"
   ]
  },
  {
   "cell_type": "code",
   "execution_count": null,
   "metadata": {},
   "outputs": [],
   "source": [
    "suits = [\"Clubs\", \"Spades\", \"Hearts\", \"Diamonds\"]  # List.\n",
    "faces = [\"Jack\", \"Queen\", \"King\", \"Ace\"]\n",
    "numbers = [2, 3, 4, 5, 6, 7, 8, 9, 10]\n",
    "\n",
    "\n",
    "def init_deck_values():\n",
    "    deck_values = {}  # Empty dictionary.\n",
    "\n",
    "    for suit in suits:\n",
    "        for face in faces + numbers:\n",
    "            key = f\"{face} of {suit}\"\n",
    "            png = key.lower().replace(\" \", \"_\") + \".png\"\n",
    "            if face == \"Ace\":\n",
    "                value = [1, 11]\n",
    "            elif face in numbers:\n",
    "                value = face\n",
    "            else:\n",
    "                value = 10\n",
    "            deck_values[key] = [value, png]\n",
    "    return deck_values"
   ]
  },
  {
   "cell_type": "code",
   "execution_count": null,
   "metadata": {},
   "outputs": [],
   "source": [
    "init_deck_values()"
   ]
  },
  {
   "cell_type": "code",
   "execution_count": null,
   "metadata": {},
   "outputs": [],
   "source": [
    "model.data.make_deck()"
   ]
  },
  {
   "cell_type": "code",
   "execution_count": null,
   "metadata": {},
   "outputs": [],
   "source": [
    "import blackjack"
   ]
  },
  {
   "cell_type": "code",
   "execution_count": null,
   "metadata": {},
   "outputs": [],
   "source": [
    "print(dir(blackjack))"
   ]
  },
  {
   "cell_type": "code",
   "execution_count": null,
   "metadata": {},
   "outputs": [],
   "source": [
    "blackjack.player"
   ]
  },
  {
   "cell_type": "code",
   "execution_count": null,
   "metadata": {},
   "outputs": [],
   "source": [
    "blackjack.dealer"
   ]
  },
  {
   "cell_type": "code",
   "execution_count": null,
   "metadata": {},
   "outputs": [],
   "source": [
    "def calc_total(who):\n",
    "    \"\"\"Work out the player's total (dealer/player) taking Aces into account.\n",
    "    The assumption is that the value of 'who' is a list of cards.\"\"\"\n",
    "    other_cards_total = 0\n",
    "    aces_count = 0\n",
    "\n",
    "    # Shape of card looks like this now: ('Ace of Diamonds', [[1, 11], 'ace_of_diamonds.png'])\n",
    "    # or like this: ('10 of Spades', [10, '10_of_spades.png']).\n",
    "\n",
    "    for card in who:\n",
    "        if isinstance(card[-1][0], list):  # Do we have a list in a list?\n",
    "            aces_count = aces_count + 1\n",
    "        else:\n",
    "            other_cards_total = other_cards_total + card[-1][0]\n",
    "\n",
    "    if aces_count:\n",
    "        # We have AT LEAST one Ace.\n",
    "        if other_cards_total <= 10:\n",
    "            if aces_count == 1:\n",
    "                return other_cards_total + 11\n",
    "            if aces_count == 2:\n",
    "                if other_cards_total < 10:\n",
    "                    return other_cards_total + 11 + 1\n",
    "                else:\n",
    "                    return other_cards_total + aces_count\n",
    "            if aces_count == 3:\n",
    "                if other_cards_total < 9:\n",
    "                    return other_cards_total + 11 + 1 + 1\n",
    "                else:\n",
    "                    return other_cards_total + aces_count\n",
    "            if aces_count == 4:\n",
    "                if other_cards_total < 8:\n",
    "                    return other_cards_total + 11 + 1 + 1 + 1\n",
    "                else:\n",
    "                    return other_cards_total + aces_count\n",
    "        else:\n",
    "            return other_cards_total + (aces_count)\n",
    "    else:\n",
    "        return other_cards_total"
   ]
  },
  {
   "cell_type": "code",
   "execution_count": null,
   "metadata": {},
   "outputs": [],
   "source": [
    "calc_total(blackjack.player)"
   ]
  },
  {
   "cell_type": "code",
   "execution_count": null,
   "metadata": {},
   "outputs": [],
   "source": [
    "calc_total(blackjack.dealer)"
   ]
  },
  {
   "cell_type": "code",
   "execution_count": null,
   "metadata": {},
   "outputs": [],
   "source": []
  }
 ],
 "metadata": {
  "kernelspec": {
   "display_name": "Python 3",
   "language": "python",
   "name": "python3"
  },
  "language_info": {
   "codemirror_mode": {
    "name": "ipython",
    "version": 3
   },
   "file_extension": ".py",
   "mimetype": "text/x-python",
   "name": "python",
   "nbconvert_exporter": "python",
   "pygments_lexer": "ipython3",
   "version": "3.11.6"
  }
 },
 "nbformat": 4,
 "nbformat_minor": 2
}
